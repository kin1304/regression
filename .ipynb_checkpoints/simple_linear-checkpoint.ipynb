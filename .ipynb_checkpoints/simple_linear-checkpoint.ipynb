{
 "cells": [
  {
   "cell_type": "code",
   "execution_count": 1,
   "id": "343c6079-dfcd-423d-a315-41375a02f9b2",
   "metadata": {},
   "outputs": [
    {
     "name": "stderr",
     "output_type": "stream",
     "text": [
      "C:\\Users\\nguye\\AppData\\Local\\Temp\\ipykernel_22388\\2151744951.py:1: DeprecationWarning: \n",
      "Pyarrow will become a required dependency of pandas in the next major release of pandas (pandas 3.0),\n",
      "(to allow more performant data types, such as the Arrow string type, and better interoperability with other libraries)\n",
      "but was not found to be installed on your system.\n",
      "If this would cause problems for you,\n",
      "please provide us feedback at https://github.com/pandas-dev/pandas/issues/54466\n",
      "        \n",
      "  import pandas as pd\n"
     ]
    }
   ],
   "source": [
    "import pandas as pd\n",
    "import numpy as np\n",
    "import matplotlib.pyplot as plt"
   ]
  },
  {
   "cell_type": "code",
   "execution_count": 2,
   "id": "6aff52a8-ac0a-4e1d-885e-e159511dd844",
   "metadata": {},
   "outputs": [
    {
     "data": {
      "text/html": [
       "<div>\n",
       "<style scoped>\n",
       "    .dataframe tbody tr th:only-of-type {\n",
       "        vertical-align: middle;\n",
       "    }\n",
       "\n",
       "    .dataframe tbody tr th {\n",
       "        vertical-align: top;\n",
       "    }\n",
       "\n",
       "    .dataframe thead th {\n",
       "        text-align: right;\n",
       "    }\n",
       "</style>\n",
       "<table border=\"1\" class=\"dataframe\">\n",
       "  <thead>\n",
       "    <tr style=\"text-align: right;\">\n",
       "      <th></th>\n",
       "      <th>MODELYEAR</th>\n",
       "      <th>MAKE</th>\n",
       "      <th>MODEL</th>\n",
       "      <th>VEHICLECLASS</th>\n",
       "      <th>ENGINESIZE</th>\n",
       "      <th>CYLINDERS</th>\n",
       "      <th>TRANSMISSION</th>\n",
       "      <th>FUELTYPE</th>\n",
       "      <th>FUELCONSUMPTION_CITY</th>\n",
       "      <th>FUELCONSUMPTION_HWY</th>\n",
       "      <th>FUELCONSUMPTION_COMB</th>\n",
       "      <th>FUELCONSUMPTION_COMB_MPG</th>\n",
       "      <th>CO2EMISSIONS</th>\n",
       "    </tr>\n",
       "  </thead>\n",
       "  <tbody>\n",
       "    <tr>\n",
       "      <th>0</th>\n",
       "      <td>2014</td>\n",
       "      <td>ACURA</td>\n",
       "      <td>ILX</td>\n",
       "      <td>COMPACT</td>\n",
       "      <td>2.0</td>\n",
       "      <td>4</td>\n",
       "      <td>AS5</td>\n",
       "      <td>Z</td>\n",
       "      <td>9.9</td>\n",
       "      <td>6.7</td>\n",
       "      <td>8.5</td>\n",
       "      <td>33</td>\n",
       "      <td>196</td>\n",
       "    </tr>\n",
       "    <tr>\n",
       "      <th>1</th>\n",
       "      <td>2014</td>\n",
       "      <td>ACURA</td>\n",
       "      <td>ILX</td>\n",
       "      <td>COMPACT</td>\n",
       "      <td>2.4</td>\n",
       "      <td>4</td>\n",
       "      <td>M6</td>\n",
       "      <td>Z</td>\n",
       "      <td>11.2</td>\n",
       "      <td>7.7</td>\n",
       "      <td>9.6</td>\n",
       "      <td>29</td>\n",
       "      <td>221</td>\n",
       "    </tr>\n",
       "    <tr>\n",
       "      <th>2</th>\n",
       "      <td>2014</td>\n",
       "      <td>ACURA</td>\n",
       "      <td>ILX HYBRID</td>\n",
       "      <td>COMPACT</td>\n",
       "      <td>1.5</td>\n",
       "      <td>4</td>\n",
       "      <td>AV7</td>\n",
       "      <td>Z</td>\n",
       "      <td>6.0</td>\n",
       "      <td>5.8</td>\n",
       "      <td>5.9</td>\n",
       "      <td>48</td>\n",
       "      <td>136</td>\n",
       "    </tr>\n",
       "    <tr>\n",
       "      <th>3</th>\n",
       "      <td>2014</td>\n",
       "      <td>ACURA</td>\n",
       "      <td>MDX 4WD</td>\n",
       "      <td>SUV - SMALL</td>\n",
       "      <td>3.5</td>\n",
       "      <td>6</td>\n",
       "      <td>AS6</td>\n",
       "      <td>Z</td>\n",
       "      <td>12.7</td>\n",
       "      <td>9.1</td>\n",
       "      <td>11.1</td>\n",
       "      <td>25</td>\n",
       "      <td>255</td>\n",
       "    </tr>\n",
       "    <tr>\n",
       "      <th>4</th>\n",
       "      <td>2014</td>\n",
       "      <td>ACURA</td>\n",
       "      <td>RDX AWD</td>\n",
       "      <td>SUV - SMALL</td>\n",
       "      <td>3.5</td>\n",
       "      <td>6</td>\n",
       "      <td>AS6</td>\n",
       "      <td>Z</td>\n",
       "      <td>12.1</td>\n",
       "      <td>8.7</td>\n",
       "      <td>10.6</td>\n",
       "      <td>27</td>\n",
       "      <td>244</td>\n",
       "    </tr>\n",
       "  </tbody>\n",
       "</table>\n",
       "</div>"
      ],
      "text/plain": [
       "   MODELYEAR   MAKE       MODEL VEHICLECLASS  ENGINESIZE  CYLINDERS  \\\n",
       "0       2014  ACURA         ILX      COMPACT         2.0          4   \n",
       "1       2014  ACURA         ILX      COMPACT         2.4          4   \n",
       "2       2014  ACURA  ILX HYBRID      COMPACT         1.5          4   \n",
       "3       2014  ACURA     MDX 4WD  SUV - SMALL         3.5          6   \n",
       "4       2014  ACURA     RDX AWD  SUV - SMALL         3.5          6   \n",
       "\n",
       "  TRANSMISSION FUELTYPE  FUELCONSUMPTION_CITY  FUELCONSUMPTION_HWY  \\\n",
       "0          AS5        Z                   9.9                  6.7   \n",
       "1           M6        Z                  11.2                  7.7   \n",
       "2          AV7        Z                   6.0                  5.8   \n",
       "3          AS6        Z                  12.7                  9.1   \n",
       "4          AS6        Z                  12.1                  8.7   \n",
       "\n",
       "   FUELCONSUMPTION_COMB  FUELCONSUMPTION_COMB_MPG  CO2EMISSIONS  \n",
       "0                   8.5                        33           196  \n",
       "1                   9.6                        29           221  \n",
       "2                   5.9                        48           136  \n",
       "3                  11.1                        25           255  \n",
       "4                  10.6                        27           244  "
      ]
     },
     "execution_count": 2,
     "metadata": {},
     "output_type": "execute_result"
    }
   ],
   "source": [
    "df = pd.read_csv('FuelConsumptionCo2.csv')\n",
    "df.head()"
   ]
  },
  {
   "cell_type": "code",
   "execution_count": 3,
   "id": "de27b568-4d15-42b9-a541-364335b5d4ad",
   "metadata": {},
   "outputs": [
    {
     "name": "stdout",
     "output_type": "stream",
     "text": [
      "<class 'pandas.core.frame.DataFrame'>\n",
      "RangeIndex: 1067 entries, 0 to 1066\n",
      "Data columns (total 13 columns):\n",
      " #   Column                    Non-Null Count  Dtype  \n",
      "---  ------                    --------------  -----  \n",
      " 0   MODELYEAR                 1067 non-null   int64  \n",
      " 1   MAKE                      1067 non-null   object \n",
      " 2   MODEL                     1067 non-null   object \n",
      " 3   VEHICLECLASS              1067 non-null   object \n",
      " 4   ENGINESIZE                1067 non-null   float64\n",
      " 5   CYLINDERS                 1067 non-null   int64  \n",
      " 6   TRANSMISSION              1067 non-null   object \n",
      " 7   FUELTYPE                  1067 non-null   object \n",
      " 8   FUELCONSUMPTION_CITY      1067 non-null   float64\n",
      " 9   FUELCONSUMPTION_HWY       1067 non-null   float64\n",
      " 10  FUELCONSUMPTION_COMB      1067 non-null   float64\n",
      " 11  FUELCONSUMPTION_COMB_MPG  1067 non-null   int64  \n",
      " 12  CO2EMISSIONS              1067 non-null   int64  \n",
      "dtypes: float64(4), int64(4), object(5)\n",
      "memory usage: 108.5+ KB\n"
     ]
    }
   ],
   "source": [
    "df.info()\n"
   ]
  },
  {
   "cell_type": "code",
   "execution_count": 4,
   "id": "05de9fb8-56f1-40ea-9904-ae1f80bc118d",
   "metadata": {
    "editable": true,
    "slideshow": {
     "slide_type": ""
    },
    "tags": []
   },
   "outputs": [],
   "source": [
    "class linear_regression(object):\n",
    "    def __init__(self): \n",
    "        self.coef = 0.0\n",
    "        self.intercept = 0.0\n",
    "        self. x_bar = 0.0\n",
    "        self.y_bar = 0.0\n",
    "        self.numerator = 0.0\n",
    "        self.denominator = 0.0\n",
    "    def fit(self, array_x:list, array_y:list):\n",
    "        length = len(array_x)\n",
    "        for i in range(length):\n",
    "            self.x_bar += array_x[i]\n",
    "            self.y_bar += array_y[i]\n",
    "        self.x_bar /= length\n",
    "        self.y_bar /= length\n",
    "        for i in range(length):\n",
    "            self.numerator += (array_x[i] - self.x_bar) * (array_y[i] - self.y_bar)\n",
    "            self.denominator += (array_x[i] - self.x_bar) * (array_x[i] - self.x_bar)\n",
    "        self.coef = self.numerator / self.denominator\n",
    "        self.intercept = self.y_bar - self.coef * self.x_bar\n",
    "        \n",
    "        "
   ]
  },
  {
   "cell_type": "code",
   "execution_count": 5,
   "id": "c0eec07f-4acd-4d3e-a5c4-c90a14f95135",
   "metadata": {},
   "outputs": [
    {
     "name": "stdout",
     "output_type": "stream",
     "text": [
      "[2.0, 2.4, 1.5, 3.5, 3.5, 3.5, 2.4, 2.4, 3.5, 5.9, 5.9, 4.7, 4.7, 4.7, 5.9, 2.0, 2.0, 2.0, 2.0, 2.0, 2.0, 3.0, 3.0, 3.0, 3.0, 3.0, 3.0, 4.0, 6.3, 3.0, 2.0, 2.0, 3.0, 4.2, 4.2, 5.2, 4.2, 4.2, 5.2, 5.2, 4.2, 4.2, 4.0, 3.0, 3.0, 3.0, 3.0, 3.0, 4.0, 4.0, 4.0, 3.0, 2.0, 2.0, 2.0, 6.0, 4.0, 6.0, 6.0, 6.8, 2.0, 2.0, 2.0, 2.0, 2.0, 2.0, 2.0, 2.0, 3.0, 3.0, 3.0, 3.0, 2.0, 2.0, 2.0, 3.0, 3.0, 3.0, 3.0, 2.0, 3.0, 3.0, 4.4, 4.4, 3.0, 4.4, 4.4, 4.4, 3.0, 4.4, 4.4, 3.0, 3.0, 4.4, 4.4, 4.4, 4.4, 4.4, 4.4, 2.0, 3.0, 2.0, 3.0, 3.0, 4.4, 4.4, 4.4, 2.0, 3.0, 3.0, 3.6, 3.6, 1.4, 1.4, 3.6, 3.6, 3.6, 2.4, 2.0, 2.0, 2.4, 2.0, 2.0, 2.4, 2.5, 3.6, 2.0, 3.6, 3.6, 3.6, 2.0, 3.6, 2.0, 3.6, 3.0, 3.6, 3.0, 3.6, 6.2, 6.2, 6.2, 6.2, 6.2, 6.2, 6.2, 3.6, 3.6, 3.6, 3.6, 6.2, 6.2, 6.2, 6.2, 6.2, 1.4, 1.4, 1.8, 2.0, 1.4, 1.4, 2.4, 3.6, 3.6, 2.4, 3.6, 4.3, 5.3, 5.3, 5.3, 5.3, 5.3, 5.3, 5.3, 5.3, 5.3, 5.3, 5.3, 4.8, 6.0, 6.0, 4.8, 6.0, 6.0, 2.5, 3.6, 3.6, 2.4, 2.0, 2.5, 2.4, 2.4, 4.3, 4.3, 5.3, 5.3, 6.2, 4.3, 4.3, 5.3, 5.3, 6.2, 1.4, 1.4, 1.8, 1.8, 1.4, 1.8, 1.4, 1.4, 1.4, 1.2, 1.2, 5.3, 5.3, 5.3, 5.3, 5.3, 5.3, 5.3, 3.6, 1.4, 1.4, 3.6, 2.4, 2.4, 3.6, 2.4, 3.6, 3.6, 5.7, 3.6, 5.7, 3.6, 3.6, 6.4, 3.6, 3.6, 2.4, 2.4, 3.6, 3.6, 5.7, 5.7, 6.4, 6.4, 3.6, 3.6, 5.7, 3.6, 3.6, 3.6, 3.6, 3.6, 3.6, 3.6, 6.4, 2.0, 2.4, 2.4, 2.0, 2.0, 2.4, 2.4, 1.4, 5.7, 3.6, 3.6, 3.6, 2.4, 3.6, 3.6, 1.4, 1.4, 1.4, 1.4, 1.4, 1.4, 1.4, 4.6, 4.6, 5.4, 4.6, 4.6, 6.8, 5.4, 5.4, 3.5, 3.5, 3.7, 2.5, 1.6, 2.0, 3.5, 3.5, 3.5, 3.5, 3.5, 3.5, 3.5, 3.5, 6.2, 3.7, 3.7, 3.7, 5.0, 3.7, 3.7, 3.7, 5.0, 5.0, 6.2, 1.6, 1.6, 1.0, 1.6, 1.6, 3.5, 3.5, 2.0, 2.0, 2.0, 2.0, 2.0, 2.0, 2.0, 1.5, 1.6, 2.0, 2.5, 1.5, 2.0, 3.7, 3.7, 5.0, 5.8, 3.7, 2.0, 3.5, 3.5, 3.5, 3.5, 3.5, 2.5, 1.6, 2.5, 3.6, 4.3, 5.3, 5.3, 5.3, 5.3, 5.3, 5.3, 5.3, 5.3, 5.3, 5.3, 6.0, 6.0, 4.8, 4.3, 4.3, 5.3, 6.2, 4.3, 4.3, 5.3, 5.3, 6.2, 3.6, 3.6, 3.6, 3.6, 5.3, 5.3, 6.2, 6.2, 5.3, 5.3, 2.4, 2.4, 2.4, 3.5, 3.5, 2.0, 1.8, 1.8, 1.8, 3.5, 2.4, 1.5, 1.5, 1.5, 3.5, 3.5, 3.5, 3.5, 1.6, 1.6, 2.0, 5.0, 3.8, 3.3, 3.3, 2.4, 2.0, 2.4, 2.0, 2.4, 2.4, 2.0, 2.0, 2.4, 2.0, 2.4, 1.6, 1.6, 1.6, 1.6, 3.7, 3.7, 3.5, 3.5, 3.7, 3.7, 3.7, 3.7, 5.6, 3.5, 3.5, 3.5, 2.5, 3.7, 5.0, 5.6, 3.0, 3.0, 5.0, 2.0, 3.0, 5.0, 5.0, 5.0, 5.0, 3.0, 5.0, 5.0, 5.0, 5.0, 5.0, 5.0, 5.0, 5.0, 2.4, 3.2, 2.4, 3.2, 2.4, 3.2, 2.4, 3.2, 2.0, 2.0, 2.4, 2.4, 2.4, 2.4, 2.4, 5.7, 3.0, 3.6, 3.6, 6.4, 2.0, 2.4, 2.4, 2.4, 2.4, 3.6, 3.6, 1.8, 1.8, 2.0, 2.0, 1.6, 1.6, 1.6, 1.6, 2.0, 2.4, 1.6, 1.6, 1.6, 2.0, 2.0, 3.5, 2.4, 3.3, 2.4, 3.3, 1.6, 1.6, 2.0, 2.0, 2.4, 2.0, 2.4, 5.2, 5.2, 2.0, 2.0, 5.0, 5.0, 5.0, 3.0, 3.0, 5.0, 5.0, 5.0, 3.0, 3.0, 5.0, 5.0, 5.0, 2.5, 3.5, 3.5, 3.5, 4.6, 2.5, 2.5, 2.5, 3.5, 3.5, 3.5, 5.0, 4.6, 4.6, 4.6, 5.0, 5.7, 3.5, 3.5, 3.7, 3.5, 2.0, 3.7, 3.7, 2.0, 3.7, 2.0, 5.4, 5.4, 3.0, 3.0, 4.7, 4.7, 3.0, 2.0, 2.0, 2.5, 2.0, 2.5, 3.7, 3.7, 1.5, 2.0, 2.5, 2.0, 2.0, 2.5, 2.5, 2.0, 2.5, 2.5, 2.5, 2.0, 2.0, 2.0, 2.0, 1.8, 1.8, 3.5, 3.5, 3.5, 3.5, 3.5, 2.0, 2.0, 4.7, 5.5, 5.5, 2.1, 3.5, 3.5, 3.5, 3.5, 3.5, 4.7, 4.7, 5.5, 5.5, 5.5, 5.5, 5.5, 4.7, 5.5, 2.1, 3.5, 3.5, 3.5, 3.0, 4.7, 5.5, 5.5, 3.5, 5.5, 6.2, 1.6, 1.6, 1.6, 1.6, 1.6, 1.6, 1.6, 1.6, 1.6, 1.6, 1.6, 1.6, 1.6, 1.6, 1.6, 1.6, 1.6, 1.6, 1.6, 1.6, 1.6, 1.6, 1.6, 1.6, 1.6, 1.6, 1.6, 1.6, 1.6, 1.6, 1.6, 2.0, 2.0, 2.4, 2.0, 2.0, 2.0, 2.0, 2.0, 1.2, 1.2, 2.4, 2.4, 2.0, 2.0, 2.0, 3.7, 3.7, 3.7, 3.7, 2.5, 3.5, 5.6, 2.5, 2.5, 4.0, 4.0, 4.0, 1.6, 1.6, 3.5, 3.5, 2.0, 3.5, 3.5, 2.5, 3.5, 2.5, 1.8, 1.8, 5.6, 5.6, 1.6, 1.6, 4.0, 4.0, 3.4, 3.4, 3.4, 3.4, 3.8, 3.8, 3.4, 3.4, 3.8, 3.8, 3.8, 3.8, 3.8, 3.8, 3.8, 3.8, 2.7, 3.4, 3.4, 3.6, 3.0, 4.8, 4.8, 3.0, 4.8, 2.7, 3.4, 3.4, 3.6, 3.6, 3.0, 3.0, 4.8, 3.0, 4.8, 5.7, 5.7, 5.7, 3.0, 3.6, 3.6, 3.6, 3.6, 3.6, 3.6, 6.7, 6.7, 6.7, 6.6, 2.0, 2.0, 1.3, 2.5, 2.4, 2.4, 1.8, 1.8, 1.0, 1.0, 8.4, 2.0, 2.0, 2.0, 2.0, 2.5, 2.5, 2.0, 2.5, 2.5, 2.5, 3.6, 2.5, 2.5, 3.6, 3.6, 2.0, 2.0, 2.0, 4.0, 4.0, 3.5, 2.5, 3.5, 2.5, 2.5, 1.8, 1.8, 1.8, 1.8, 1.8, 4.0, 2.7, 3.5, 3.5, 3.5, 1.8, 1.5, 1.8, 2.5, 2.5, 5.7, 3.5, 3.5, 2.7, 4.0, 2.7, 2.7, 4.0, 4.0, 4.0, 5.7, 4.6, 2.7, 2.7, 3.5, 1.5, 1.8, 1.8, 2.0, 2.0, 2.5, 2.5, 1.8, 2.0, 2.5, 2.0, 2.0, 2.0, 2.0, 3.6, 2.0, 2.5, 2.5, 2.0, 2.0, 1.8, 1.8, 2.0, 2.0, 2.0, 2.0, 2.0, 1.4, 1.8, 1.8, 2.5, 3.6, 2.0, 2.0, 3.6, 2.0, 2.0, 2.0, 3.0, 2.5, 2.5, 3.0, 3.2, 3.2, 3.0, 3.2, 3.0, 3.2, 3.2]\n"
     ]
    }
   ],
   "source": [
    "n = np.random.rand(len(df)) < 0.8\n",
    "x = df['ENGINESIZE']\n",
    "y = df['CO2EMISSIONS']\n",
    "train_x = [x[i] for i in range(len(n)) if (n[i]) ]\n",
    "train_y = [y[i] for i in range(len(n)) if (n[i]) ]\n",
    "test_x = [x[i] for i in range(len(n)) if (n[i] == False) ]\n",
    "test_y = [y[i] for i in range(len(n)) if (n[i] == False) ]\n",
    "print(train_x)\n",
    "\n"
   ]
  },
  {
   "cell_type": "code",
   "execution_count": 6,
   "id": "7c9f84b0-b94d-40ee-a77a-e3599f6c5605",
   "metadata": {
    "editable": true,
    "slideshow": {
     "slide_type": ""
    },
    "tags": []
   },
   "outputs": [
    {
     "name": "stdout",
     "output_type": "stream",
     "text": [
      "39.293663453135885\n",
      "124.67925674726183\n"
     ]
    }
   ],
   "source": [
    "regr = linear_regression()\n",
    "regr.fit(train_x, train_y)\n",
    "print(regr.coef)\n",
    "print(regr.intercept)\n",
    "y = [(regr.coef * x + regr.intercept) for x in train_x]"
   ]
  },
  {
   "cell_type": "code",
   "execution_count": 7,
   "id": "86c023eb-1833-41a8-af00-7c31495af5aa",
   "metadata": {},
   "outputs": [
    {
     "data": {
      "text/plain": [
       "Text(0, 0.5, 'CO2EMISSIONS')"
      ]
     },
     "execution_count": 7,
     "metadata": {},
     "output_type": "execute_result"
    },
    {
     "data": {
      "image/png": "[encoded data removed]",
      "text/plain": [
       "<Figure size 640x480 with 1 Axes>"
      ]
     },
     "metadata": {},
     "output_type": "display_data"
    }
   ],
   "source": [
    "plt.scatter(train_x, train_y, color = 'blue')\n",
    "plt.plot(train_x, y, '-r')\n",
    "plt.xlabel('ENGINESIZE')\n",
    "plt.ylabel('CO2EMISSIONS')\n",
    "         "
   ]
  },
  {
   "cell_type": "code",
   "execution_count": 8,
   "id": "443eb076-3892-4d08-82b5-6898ca39206a",
   "metadata": {},
   "outputs": [],
   "source": [
    "cdf = df[['ENGINESIZE','CYLINDERS','FUELCONSUMPTION_COMB','CO2EMISSIONS']]\n",
    "train = cdf[n]\n",
    "test = cdf[~n]"
   ]
  },
  {
   "cell_type": "code",
   "execution_count": 9,
   "id": "0ebe5adb-e147-4d6e-8b0e-fb032af8bf62",
   "metadata": {},
   "outputs": [
    {
     "name": "stdout",
     "output_type": "stream",
     "text": [
      "Coefficients:  [[39.29366345]]\n",
      "Intercept:  [124.67925675]\n"
     ]
    }
   ],
   "source": [
    "from sklearn import linear_model\n",
    "regr = linear_model.LinearRegression()\n",
    "x = np.asanyarray(train[['ENGINESIZE']])\n",
    "y = np.asanyarray(train[['CO2EMISSIONS']])\n",
    "regr.fit(x, y)\n",
    "# The coefficients\n",
    "print ('Coefficients: ', regr.coef_)\n",
    "print ('Intercept: ',regr.intercept_)\n"
   ]
  },
  {
   "cell_type": "code",
   "execution_count": null,
   "id": "c012f696-0e9b-4308-ba53-0e5f339bc054",
   "metadata": {},
   "outputs": [],
   "source": []
  }
 ],
 "metadata": {
  "kernelspec": {
   "display_name": "Python 3 (ipykernel)",
   "language": "python",
   "name": "python3"
  },
  "language_info": {
   "codemirror_mode": {
    "name": "ipython",
    "version": 3
   },
   "file_extension": ".py",
   "mimetype": "text/x-python",
   "name": "python",
   "nbconvert_exporter": "python",
   "pygments_lexer": "ipython3",
   "version": "3.11.7"
  }
 },
 "nbformat": 4,
 "nbformat_minor": 5
}
